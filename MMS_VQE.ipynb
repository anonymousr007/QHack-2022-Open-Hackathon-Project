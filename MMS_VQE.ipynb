{
  "nbformat": 4,
  "nbformat_minor": 0,
  "metadata": {
    "colab": {
      "name": "MMS_VQE.ipynb",
      "provenance": []
    },
    "kernelspec": {
      "name": "python3",
      "display_name": "Python 3"
    },
    "language_info": {
      "name": "python"
    }
  },
  "cells": [
    {
      "cell_type": "markdown",
      "source": [
        "# QHack 2022 Open Hackathon Project: Matrix-Model Simulations using VQE\n",
        "Team Name: anonymousr007<br>\n",
        "Team Member: [Rishabh Singh](https://github.com/anonymousr007)\n"
      ],
      "metadata": {
        "id": "m64amLlH41Qg"
      }
    },
    {
      "cell_type": "markdown",
      "source": [
        "# Introduction"
      ],
      "metadata": {
        "id": "3IN2BVg9oXZ4"
      }
    },
    {
      "cell_type": "markdown",
      "source": [
        "Matrix quantum mechanics plays various important roles in theoretical physics, such as a holographic description of quantum black holes.Understanding quantum black holes and the role of entanglement in a holographic setup is of paramount importance for the development of better quantum algorithms (quantum error correction codes) and for the realization of a quantum theory of gravity. Quantum computing offer us potentially useful approaches to study the dynamics of matrix quantum mechanics. Gauge/gravity duality translates difficult (or intractable) problems in quantum gravity to well-defined problems in non-gravitational quantum theories. Although it originated from string/M-theory, connections to various other fields including quantum information theory, condensed matter theory, and cosmology, have been recognized by now with research programs actively pursued. Quantum mechanics with matrix degrees of freedom (matrix QM, or matrix models in the following) play important roles in gauge/gravity duality. More specifically, Yang–Mills-type matrix models can provide us with a nonperturbative formulation of superstring/M-theory. In certain regions of the parameter space (i.e., strong coupling and large-N), weakly-coupled gravity with small stringy corrections can be described by matrix models.Therefore, matrix models can offer us an ideal setup to study quantum corrections to gravity. By solving the matrix models, it should be possible to study fascinating problems such as the microscopic mechanism of black hole evaporation.\n",
        "\n",
        "## Quantum Computer \n",
        "\n",
        "- On a quantum computer, quantum states are directly realized.\n",
        "- Quantum Computing does not suffer from the sign problem\n",
        "- The Hamiltonian time evolution can be simulated straightforwardly.\n",
        "- Some research directions that could benefit from direct quantum simulations are the formation and evaporation of a black hole, or a wormhole, and quantum teleportation.\n",
        "- The biggest challenge is that we do not yet have a reliable large-scale quantum computer.\n",
        "- Although we can emulate a quantum computer on a classical computer, these simulations are restricted to systems with only a small number of qubits.\n",
        "- Furthermore, the effects of the regularization needed to map a theory on a quantum device are not well understood yet.\n",
        "\n",
        "## Variational Quantum Eigensolver (VQE)\n",
        "\n",
        "- The Variational Quantum Eigensolver (VQE) is expected to be a useful quantum-classical hybrid algorithm in the Noisy Intermediate Scale Quantum (NISQ) era.\n",
        "- Being a variational method, the VQE can have systematic errors: a priori, we do not know if we can get the right answer, because the simulation might be\n",
        "trapped in a local optimum.\n",
        "- This is a general problem for variational methods.\n",
        "- Quantum computing represents the computation in terms of qubits and quantum gates which can represent larger Hamiltonians and Hilbert spaces on quantum hardware than classical computers that are limited by memory constraints.\n",
        "- Also, quantum computing represents fermions straightforwardly in a similar way to how they represent bosons and, as mentioned above, are not susceptible to the sign problem like classical methods using Monte Carlo algorithms.\n",
        "- Some of the disadvantages of NISQ devices include the lack of quantum error correction for quantum gates and the presence of noise which can lead to inaccurate quantum gates and decoherence of the qubits during the computation.\n",
        "- For hybrid quantum-classical computations that we discuss here, the advantages are that many parts of a hybrid quantum-classical variational calculation, such as optimization, can be done efficiently on a classical computer, while expectation values can be computed on a quantum computer.\n",
        "- This leads to a lower depth for the circuits, making them less susceptible to decoherence.\n",
        "- However, these methods include complicated state-preparation protocols and variational ansatze for the wave function that need to be specified\n",
        "to have strong overlaps with the true ground state. Such wave functions may need a high-depth quantum circuit which is difficult to implement on a NISQ hardware, and it is prone to decoherence."
      ],
      "metadata": {
        "id": "Cb53aJabocnk"
      }
    },
    {
      "cell_type": "markdown",
      "source": [
        "# Abstract\n",
        "\n",
        "This project aims to use a truncated (regularized) Hamiltonian for the matrix quantum mechanics models. This Hamiltonian is constructed by considering a truncated Hilbert space in the Fock basis. The truncated Hilbert space is constructed starting from the individual matrix degrees of freedom.\n",
        "\n",
        "Two types of matrix quantum mechanics models are used\n",
        "\n",
        "- A Yang-Mills-type bosonic 2-matrix model with SU(2) gauge group, which has 6 bosonic degrees of freedom in total.\n",
        "- A Supersymmetric 2-matrix model with SU(2) gauge group which corresponds to with the minimal number of degrees of freedom 6 bosons and 3 fermions.\n",
        "\n",
        "Quantum mechanics with matrix degrees of freedom plays an important role in gauge-gravity duality. Gauge-gravity duality translates difficult problems in quantum gravity to well-defined problems in non-gravitational quantum theories. Although it originated from string–M-theory, connections to various other fields, including \n",
        "\n",
        "- Quantum Information Theory\n",
        "- Condensed Matter Theory\n",
        "- Cosmology\n",
        "- Holographic simulation of Quantum Black Holes\n",
        "- Complex high-dimensional supergravity theories\n",
        "\n",
        "We use the **Variational Quantum EigenSolver (VQE)** to estimate the low-energy spectrum As for the VQE, the specific architecture that we use does not show a satisfactory performance at strong coupling, perhaps due to the variational forms parametrized by the quantum circuits not adequately probing the full gauge-invariant Hilbert space. This result shows that going beyond the VQE and using more complicated or fully quantum algorithms is not the correct way to approach matrix quantum mechanics for now, because they would require even deeper quantum circuits that are more prone to noise on actual quantum hardware."
      ],
      "metadata": {
        "id": "rPEDCQ-Co2ll"
      }
    },
    {
      "cell_type": "code",
      "source": [
        "#@title Check the box below if you have a GPU\n",
        "\n",
        "HAS_GPU = True #@param {type: \"boolean\"}\n",
        "if HAS_GPU:\n",
        "  print(\"Installing qiskit with GPU support\")\n",
        "  !pip3 -q install qiskit[visualization] qiskit-aer-gpu pylatexenc\n",
        "else:\n",
        "  print(\"Installing qiskit\")\n",
        "  !pip3 -q install qiskit[visualization] pylatexenc"
      ],
      "metadata": {
        "colab": {
          "base_uri": "https://localhost:8080/"
        },
        "id": "uA5C8YsbG3Bq",
        "outputId": "21848912-714b-47ba-c323-239223ed6891"
      },
      "execution_count": 1,
      "outputs": [
        {
          "output_type": "stream",
          "name": "stdout",
          "text": [
            "Installing qiskit with GPU support\n"
          ]
        }
      ]
    },
    {
      "cell_type": "code",
      "source": [
        "!pip install qiskit"
      ],
      "metadata": {
        "colab": {
          "base_uri": "https://localhost:8080/"
        },
        "id": "sdu6Z41ivlL2",
        "outputId": "93c0e71e-69f0-475e-da67-f86ed1cbaa2c"
      },
      "execution_count": 2,
      "outputs": [
        {
          "output_type": "stream",
          "name": "stdout",
          "text": [
            "Requirement already satisfied: qiskit in /usr/local/lib/python3.7/dist-packages (0.34.2)\n",
            "Requirement already satisfied: qiskit-ibmq-provider==0.18.3 in /usr/local/lib/python3.7/dist-packages (from qiskit) (0.18.3)\n",
            "Requirement already satisfied: qiskit-terra==0.19.2 in /usr/local/lib/python3.7/dist-packages (from qiskit) (0.19.2)\n",
            "Requirement already satisfied: qiskit-aer==0.10.3 in /usr/local/lib/python3.7/dist-packages (from qiskit) (0.10.3)\n",
            "Requirement already satisfied: qiskit-ignis==0.7.0 in /usr/local/lib/python3.7/dist-packages (from qiskit) (0.7.0)\n",
            "Requirement already satisfied: scipy>=1.0 in /usr/local/lib/python3.7/dist-packages (from qiskit-aer==0.10.3->qiskit) (1.7.3)\n",
            "Requirement already satisfied: numpy>=1.16.3 in /usr/local/lib/python3.7/dist-packages (from qiskit-aer==0.10.3->qiskit) (1.21.5)\n",
            "Requirement already satisfied: requests-ntlm>=1.1.0 in /usr/local/lib/python3.7/dist-packages (from qiskit-ibmq-provider==0.18.3->qiskit) (1.1.0)\n",
            "Requirement already satisfied: websocket-client>=1.0.1 in /usr/local/lib/python3.7/dist-packages (from qiskit-ibmq-provider==0.18.3->qiskit) (1.2.3)\n",
            "Requirement already satisfied: python-dateutil>=2.8.0 in /usr/local/lib/python3.7/dist-packages (from qiskit-ibmq-provider==0.18.3->qiskit) (2.8.2)\n",
            "Requirement already satisfied: urllib3>=1.21.1 in /usr/local/lib/python3.7/dist-packages (from qiskit-ibmq-provider==0.18.3->qiskit) (1.24.3)\n",
            "Requirement already satisfied: requests>=2.19 in /usr/local/lib/python3.7/dist-packages (from qiskit-ibmq-provider==0.18.3->qiskit) (2.23.0)\n",
            "Requirement already satisfied: setuptools>=40.1.0 in /usr/local/lib/python3.7/dist-packages (from qiskit-ignis==0.7.0->qiskit) (57.4.0)\n",
            "Requirement already satisfied: retworkx>=0.8.0 in /usr/local/lib/python3.7/dist-packages (from qiskit-ignis==0.7.0->qiskit) (0.11.0)\n",
            "Requirement already satisfied: sympy>=1.3 in /usr/local/lib/python3.7/dist-packages (from qiskit-terra==0.19.2->qiskit) (1.7.1)\n",
            "Requirement already satisfied: psutil>=5 in /usr/local/lib/python3.7/dist-packages (from qiskit-terra==0.19.2->qiskit) (5.4.8)\n",
            "Requirement already satisfied: ply>=3.10 in /usr/local/lib/python3.7/dist-packages (from qiskit-terra==0.19.2->qiskit) (3.11)\n",
            "Requirement already satisfied: tweedledum<2.0,>=1.1 in /usr/local/lib/python3.7/dist-packages (from qiskit-terra==0.19.2->qiskit) (1.1.1)\n",
            "Requirement already satisfied: dill>=0.3 in /usr/local/lib/python3.7/dist-packages (from qiskit-terra==0.19.2->qiskit) (0.3.4)\n",
            "Requirement already satisfied: stevedore>=3.0.0 in /usr/local/lib/python3.7/dist-packages (from qiskit-terra==0.19.2->qiskit) (3.5.0)\n",
            "Requirement already satisfied: python-constraint>=1.4 in /usr/local/lib/python3.7/dist-packages (from qiskit-terra==0.19.2->qiskit) (1.4.0)\n",
            "Requirement already satisfied: symengine>=0.8 in /usr/local/lib/python3.7/dist-packages (from qiskit-terra==0.19.2->qiskit) (0.9.0)\n",
            "Requirement already satisfied: six>=1.5 in /usr/local/lib/python3.7/dist-packages (from python-dateutil>=2.8.0->qiskit-ibmq-provider==0.18.3->qiskit) (1.15.0)\n",
            "Requirement already satisfied: idna<3,>=2.5 in /usr/local/lib/python3.7/dist-packages (from requests>=2.19->qiskit-ibmq-provider==0.18.3->qiskit) (2.10)\n",
            "Requirement already satisfied: chardet<4,>=3.0.2 in /usr/local/lib/python3.7/dist-packages (from requests>=2.19->qiskit-ibmq-provider==0.18.3->qiskit) (3.0.4)\n",
            "Requirement already satisfied: certifi>=2017.4.17 in /usr/local/lib/python3.7/dist-packages (from requests>=2.19->qiskit-ibmq-provider==0.18.3->qiskit) (2021.10.8)\n",
            "Requirement already satisfied: ntlm-auth>=1.0.2 in /usr/local/lib/python3.7/dist-packages (from requests-ntlm>=1.1.0->qiskit-ibmq-provider==0.18.3->qiskit) (1.5.0)\n",
            "Requirement already satisfied: cryptography>=1.3 in /usr/local/lib/python3.7/dist-packages (from requests-ntlm>=1.1.0->qiskit-ibmq-provider==0.18.3->qiskit) (36.0.1)\n",
            "Requirement already satisfied: cffi>=1.12 in /usr/local/lib/python3.7/dist-packages (from cryptography>=1.3->requests-ntlm>=1.1.0->qiskit-ibmq-provider==0.18.3->qiskit) (1.15.0)\n",
            "Requirement already satisfied: pycparser in /usr/local/lib/python3.7/dist-packages (from cffi>=1.12->cryptography>=1.3->requests-ntlm>=1.1.0->qiskit-ibmq-provider==0.18.3->qiskit) (2.21)\n",
            "Requirement already satisfied: importlib-metadata>=1.7.0 in /usr/local/lib/python3.7/dist-packages (from stevedore>=3.0.0->qiskit-terra==0.19.2->qiskit) (4.11.1)\n",
            "Requirement already satisfied: pbr!=2.1.0,>=2.0.0 in /usr/local/lib/python3.7/dist-packages (from stevedore>=3.0.0->qiskit-terra==0.19.2->qiskit) (5.8.1)\n",
            "Requirement already satisfied: zipp>=0.5 in /usr/local/lib/python3.7/dist-packages (from importlib-metadata>=1.7.0->stevedore>=3.0.0->qiskit-terra==0.19.2->qiskit) (3.7.0)\n",
            "Requirement already satisfied: typing-extensions>=3.6.4 in /usr/local/lib/python3.7/dist-packages (from importlib-metadata>=1.7.0->stevedore>=3.0.0->qiskit-terra==0.19.2->qiskit) (3.10.0.2)\n",
            "Requirement already satisfied: mpmath>=0.19 in /usr/local/lib/python3.7/dist-packages (from sympy>=1.3->qiskit-terra==0.19.2->qiskit) (1.2.1)\n"
          ]
        }
      ]
    },
    {
      "cell_type": "markdown",
      "source": [
        "# Libraries"
      ],
      "metadata": {
        "id": "DXH4Xyz1tIBk"
      }
    },
    {
      "cell_type": "code",
      "source": [
        "# Let us begin by importing necessary libraries.\n",
        "import time\n",
        "import sys\n",
        "import numpy as np\n",
        "import matplotlib.pyplot as plt\n",
        "import warnings\n",
        "%matplotlib inline\n",
        "\n",
        "# qiskit\n",
        "from qiskit import Aer\n",
        "from qiskit.algorithms import VQE, NumPyEigensolver\n",
        "from qiskit.algorithms.optimizers import SLSQP, SPSA\n",
        "from qiskit.circuit.library import EfficientSU2\n",
        "from qiskit.opflow import MatrixOp\n",
        "from qiskit.utils import algorithm_globals, QuantumInstance\n",
        "\n",
        "# scipy\n",
        "from scipy.sparse import diags, identity, kron\n",
        "from scipy.sparse.linalg import eigsh"
      ],
      "metadata": {
        "id": "OcWKN_Q1tJ-z"
      },
      "execution_count": 3,
      "outputs": []
    },
    {
      "cell_type": "markdown",
      "source": [
        "# Basis operators for a single boson\n",
        "\n",
        "We define the annihilation operator in a $N \\times N$ representation for each bosonic matrix, and we define the identity operator.\n",
        "Combining them for all bosonic matrices will allow us to construct the Hamiltonian."
      ],
      "metadata": {
        "id": "P_BxD5kC5r6k"
      }
    },
    {
      "cell_type": "code",
      "source": [
        "n = 2  # cutoff for Fock space. The number of qubits used will be K = log2(N) \n",
        "annihilation_operator = np.array(np.diagflat(np.sqrt(np.linspace(1,n-1,n-1)),k=1))\n",
        "identity = np.identity(n)"
      ],
      "metadata": {
        "id": "73WmgvPF5ux5"
      },
      "execution_count": 4,
      "outputs": []
    },
    {
      "cell_type": "code",
      "source": [
        "print(annihilation_operator)"
      ],
      "metadata": {
        "colab": {
          "base_uri": "https://localhost:8080/"
        },
        "id": "tOACFseW543O",
        "outputId": "c3cd5ce7-f2f4-41b0-d5c7-6c7f4526609d"
      },
      "execution_count": 5,
      "outputs": [
        {
          "output_type": "stream",
          "name": "stdout",
          "text": [
            "[[0. 1.]\n",
            " [0. 0.]]\n"
          ]
        }
      ]
    },
    {
      "cell_type": "code",
      "source": [
        "print(identity)"
      ],
      "metadata": {
        "colab": {
          "base_uri": "https://localhost:8080/"
        },
        "id": "pdT-2P0L6Iqb",
        "outputId": "d8c9034e-4c02-44aa-ff2f-c4f741d1c15f"
      },
      "execution_count": 6,
      "outputs": [
        {
          "output_type": "stream",
          "name": "stdout",
          "text": [
            "[[1. 0.]\n",
            " [0. 1.]]\n"
          ]
        }
      ]
    },
    {
      "cell_type": "code",
      "source": [
        "bosonic_dof = 6  # number of bosonic dof as matrices: SU(2) -> 2^2-1=6 generators\n",
        "bosonList = [annihilation_operator]\n",
        "for bosons in range(0, bosonic_dof-1):\n",
        "  bosonList.append(identity)\n",
        "with np.printoptions(precision=3, suppress=True, linewidth=120, threshold=sys.maxsize):\n",
        "  for i in bosonList:\n",
        "    print(f\"{i}\\n\")"
      ],
      "metadata": {
        "colab": {
          "base_uri": "https://localhost:8080/"
        },
        "id": "GHqSX97a6Ru-",
        "outputId": "977f4f9e-85a3-4161-bc9d-9b8b909866c0"
      },
      "execution_count": 7,
      "outputs": [
        {
          "output_type": "stream",
          "name": "stdout",
          "text": [
            "[[0. 1.]\n",
            " [0. 0.]]\n",
            "\n",
            "[[1. 0.]\n",
            " [0. 1.]]\n",
            "\n",
            "[[1. 0.]\n",
            " [0. 1.]]\n",
            "\n",
            "[[1. 0.]\n",
            " [0. 1.]]\n",
            "\n",
            "[[1. 0.]\n",
            " [0. 1.]]\n",
            "\n",
            "[[1. 0.]\n",
            " [0. 1.]]\n",
            "\n"
          ]
        }
      ]
    },
    {
      "cell_type": "code",
      "source": [
        "# This for loop takes the appropriate Kronecker products for each boson.\n",
        "for i in range(0, bosonic_dof):\n",
        "  for j in range(0, bosonic_dof - 1):\n",
        "    # For the nth boson, the nth Kronecker product is with the annihilation operator.\n",
        "    if j == i-1 and i != 0:\n",
        "        bosonList[i] = np.kron(bosonList[i], annihilation_operator)\n",
        "    # Else, the nth Kronecker product is with the identity matrix.\n",
        "    else:\n",
        "        bosonList[i] = np.kron(bosonList[i], identity) "
      ],
      "metadata": {
        "id": "sR2_FPFi6WF5"
      },
      "execution_count": 8,
      "outputs": []
    },
    {
      "cell_type": "code",
      "source": [
        "[x.shape for x in bosonList]"
      ],
      "metadata": {
        "colab": {
          "base_uri": "https://localhost:8080/"
        },
        "id": "cNSIalzg6sKd",
        "outputId": "5404ddb7-dc71-43ce-d3c0-19353fb33961"
      },
      "execution_count": 9,
      "outputs": [
        {
          "output_type": "execute_result",
          "data": {
            "text/plain": [
              "[(64, 64), (64, 64), (64, 64), (64, 64), (64, 64), (64, 64)]"
            ]
          },
          "metadata": {},
          "execution_count": 9
        }
      ]
    },
    {
      "cell_type": "code",
      "source": [
        "fig, ax = plt.subplots(ncols=6, figsize=(18, 6))\n",
        "fig.subplots_adjust(left=0.02, bottom=0.06, right=0.95, top=0.94, wspace=0.5, hspace=1)\n",
        "for i,axi in enumerate(np.ravel(ax)):\n",
        "  pos = axi.imshow(bosonList[i], cmap='jet')\n",
        "  fig.colorbar(pos, ax=axi)\n",
        "  axi.set_title(f\"Boson {i+1}\")\n",
        "fig.suptitle('Operators', fontsize=16)\n",
        "fig.subplots_adjust(top=0.9)"
      ],
      "metadata": {
        "colab": {
          "base_uri": "https://localhost:8080/",
          "height": 434
        },
        "id": "eGUgWHWW64gv",
        "outputId": "065382f9-4a44-4181-b7e7-b3a4287dda2a"
      },
      "execution_count": 10,
      "outputs": [
        {
          "output_type": "display_data",
          "data": {
            "image/png": "[encoded data removed]",
            "text/plain": [
              "<Figure size 1296x432 with 12 Axes>"
            ]
          },
          "metadata": {
            "needs_background": "light"
          }
        }
      ]
    },
    {
      "cell_type": "markdown",
      "source": [
        "# Creating the Bosons and the Quartic Hamiltonians\n",
        "\n",
        "The following cell defines a function which creates the bosons, then it creates the simple quartic and full quartic SU2 Hamiltonians. The function recieves the number of bosons and the size of the bosons as arguments. For example, for 6 bosons that are 8x8, the function call would look like bosonHamiltonians(6, 8). The function returns the two Hamiltonians.\n",
        "\n",
        "First, an annihilation operator and identity matrix is created. Each of the 6 bosons is constructed by taking the Kronecker product of the annihilation operator with the identity matrix, in a specific order. For the $n^{th}$ boson, the annhiliation operator will be in the $n^{th}$ position of the Kronecker product. For example, the first boson's Kronecker product would look like $$\\hat{a} \\otimes I \\otimes I \\otimes I \\otimes I \\otimes I$$ where $\\hat{a}$ is the annihilation operator and $I$ is the identity matrix. The 2nd boson would look like $$I \\otimes \\hat{a} \\otimes I \\otimes I \\otimes I \\otimes I$$ and so on."
      ],
      "metadata": {
        "id": "WsjKOBZT7LIs"
      }
    },
    {
      "cell_type": "code",
      "source": [
        "def bosonHamiltonians(num_boson, bosonMatrixDim, coupling=0.1):\n",
        "    # This function takes the number of bosons (num_boson) and the size of the bosons (bosonMatrixDim)\n",
        "    # as arguments. If the size of the boson is 2 x 2, for example, then bosonMatrixDim = 2.\n",
        "    # coupling is lambda/2 and lambda is the 'tHooft coupling'\n",
        "    \n",
        "    # Create the n x n annhiliation operator. Here, we create a list with all the integers from\n",
        "    # the square root of 1 to the square root of n-1, where n x n is the size of the boson.\n",
        "    # This list is injected as the upper diagonal in an array of zeros.\n",
        "    ann_op = np.array(np.diagflat(np.sqrt(np.linspace(1,bosonMatrixDim-1,bosonMatrixDim-1)),k=1))\n",
        "    \n",
        "    # Create the n x n identity matrix.\n",
        "    id = np.identity(bosonMatrixDim)\n",
        "    \n",
        "    # Create a list which holds the six bosons. bosonList[0] is the first boson. bosonList[5] is the 6th boson.\n",
        "    # For the first boson, the Kronecker product starts with the annihilation operator.\n",
        "    bosonList = [ann_op]\n",
        "    \n",
        "    # This for loop creates the list of bosons before the Kronecker products are taken. The first one was \n",
        "    # already created in the previous line.\n",
        "    for bosons in range(0,num_boson-1):\n",
        "        bosonList.append(id)\n",
        "    \n",
        "    # This for loop takes the appropriate Kronecker products for each boson.\n",
        "    for i in range(0,num_boson):\n",
        "        for j in range(0,num_boson-1):\n",
        "            \n",
        "            # For the nth boson, the nth Kronecker product is with the annihilation operator.\n",
        "            if j == i-1 and i != 0:\n",
        "                bosonList[i] = np.kron(bosonList[i], ann_op)\n",
        "            # Else, the nth Kronecker product is with the identity matrix.\n",
        "            else:\n",
        "                bosonList[i] = np.kron(bosonList[i], id)\n",
        "\n",
        "    # Create the position operators. Normalized as in the notes\n",
        "    x = []\n",
        "    for r in range(0, num_boson):\n",
        "        x.append((1/np.sqrt(2))*(bosonList[r] + np.transpose(np.conjugate(bosonList[r]))))\n",
        "    \n",
        "    # Create the simple quadratic Hamiltonian.\n",
        "    H2MM = 0\n",
        "\n",
        "    for i in range(0,num_boson):\n",
        "        # The @ symbol is a shorthand for matrix multiplication. It's equivalent to using np.matmul().\n",
        "        H2MM = H2MM + (np.transpose(np.conjugate(bosonList[i])) @ bosonList[i])\n",
        "\n",
        "    H2MM = H2MM + 0.5*num_boson*np.identity(bosonMatrixDim**(num_boson))\n",
        "\n",
        "    # Create the full quartic SU(2) Hamiltonian.\n",
        "    x_sq = []\n",
        "\n",
        "    for i in x:\n",
        "        x_sq.append(i @ i)\n",
        "\n",
        "    H4MM1 = (H2MM + coupling*((x_sq[2] @ x_sq[3]) \n",
        "                              + (x_sq[2] @ x_sq[4]) \n",
        "                              + (x_sq[1] @ x_sq[3]) \n",
        "                              + (x_sq[1] @ x_sq[5])\n",
        "                              + (x_sq[0] @ x_sq[4])\n",
        "                              + (x_sq[0] @ x_sq[5])\n",
        "                              - 2*((x[0] @ x[2]) @ (x[3] @ x[5]))\n",
        "                              - 2*((x[0] @ x[1]) @ (x[3] @ x[4]))\n",
        "                              - 2*((x[1] @ x[2]) @ (x[4] @ x[5]))))\n",
        "    return H2MM, H4MM1\n",
        "\n",
        "# Set the number of bosons here. For the proper full quartic SU(2) Hamiltonian, this has to be 6.\n",
        "num_boson = 6\n",
        "\n",
        "# Set the size of the bosons here. For an n x n boson, bosonMatrixDim = n.\n",
        "# 5 crashes this colab with 12Gb of RAM ->  tries 6 of these tcmalloc: large alloc 1953128448 bytes \n",
        "bosonMatrixDim = 2\n",
        "\n",
        "# the function actually creates intermediate matrices x and x2 so the memory footprint is even higher...for N=5 it requires ~50GB of RAM\n",
        "H2MM, H4MM1 = bosonHamiltonians(num_boson, bosonMatrixDim, coupling=0.1)  # we can change the coupling by adding coupling=0.5 to the args\n",
        "\n",
        "# Set the Hamiltonian that you want to run the VQE algorithm with here.\n",
        "hamiltonian = H4MM1\n",
        "\n",
        "# Use numpy to find the eigenvalues of the simple quartic Hamiltonian\n",
        "# this can take a long time for large matrices\n",
        "val,vec=np.linalg.eig(hamiltonian)\n",
        "z = np.argsort(val)\n",
        "z = z[0:len(hamiltonian)]\n",
        "energies=(val[z])\n",
        "\n",
        "if hamiltonian.all() == H4MM1.all():\n",
        "    # Sometimes there are negligible imaginary parts (e.g. order of 10^-16), so I take the real parts only.\n",
        "    print('Full Quartic SU2 Eigenvalues:\\n\\n', np.real(energies))\n",
        "else:\n",
        "    print('Simple Quartic Eigenvalues:\\n\\n', energies)"
      ],
      "metadata": {
        "colab": {
          "base_uri": "https://localhost:8080/"
        },
        "id": "t1cOe3ot7Gsa",
        "outputId": "9b36c242-e7c4-417f-8ab7-51e82f0b4130"
      },
      "execution_count": 12,
      "outputs": [
        {
          "output_type": "stream",
          "name": "stdout",
          "text": [
            "Full Quartic SU2 Eigenvalues:\n",
            "\n",
            " [3.14807787 4.14674965 4.14674965 4.14674965 4.14674965 4.14674965\n",
            " 4.14674965 5.04817155 5.09501244 5.09501244 5.09501244 5.09501244\n",
            " 5.09501244 5.09501244 5.2        5.2        5.2        5.2\n",
            " 5.2        5.2        5.2        5.2        6.         6.\n",
            " 6.10024938 6.10024938 6.10024938 6.10024938 6.10024938 6.10024938\n",
            " 6.2        6.2        6.2        6.2        6.2        6.2\n",
            " 6.2        6.2        6.2        6.2        6.2        6.2\n",
            " 7.05192213 7.10498756 7.10498756 7.10498756 7.10498756 7.10498756\n",
            " 7.10498756 7.2        7.2        7.2        7.2        7.2\n",
            " 7.2        7.2        7.2        8.15300098 8.15300098 8.15300098\n",
            " 8.15300098 8.15300098 8.15300098 9.15182845]\n"
          ]
        }
      ]
    },
    {
      "cell_type": "markdown",
      "source": [
        "# Convert the Hamiltonian\n",
        "Now, we take the Hamiltonian matrix and map it onto a qubit operator. There may be better ways to do this now that `qiskit` has added new ways to map Hamiltonians to qubit operators.\n",
        "\n",
        "In fact, we should skip the creation of the Hamiltonian as a matrix and directly used operators in `qiskit`"
      ],
      "metadata": {
        "id": "G4nfAK7z9S8N"
      }
    },
    {
      "cell_type": "code",
      "source": [
        "start_time = time.time()\n",
        "warnings.filterwarnings(\"ignore\")\n",
        "\n",
        "qubit_operator = MatrixOp(primitive=hamiltonian)\n",
        "print(\"Size of Hamiltonian:\", np.shape(hamiltonian))\n",
        "\n",
        "end_time = time.time()\n",
        "\n",
        "runtime = end_time-start_time\n",
        "print('Program runtime: ',runtime)"
      ],
      "metadata": {
        "colab": {
          "base_uri": "https://localhost:8080/"
        },
        "id": "A0XVbzw29buE",
        "outputId": "1686a3a6-a60f-4a08-ea67-c6d70225bf36"
      },
      "execution_count": 13,
      "outputs": [
        {
          "output_type": "stream",
          "name": "stdout",
          "text": [
            "Size of Hamiltonian: (64, 64)\n",
            "Program runtime:  0.0030336380004882812\n"
          ]
        }
      ]
    },
    {
      "cell_type": "code",
      "source": [
        "print(qubit_operator)"
      ],
      "metadata": {
        "colab": {
          "base_uri": "https://localhost:8080/"
        },
        "id": "iLvxz5y0QPip",
        "outputId": "7283805b-0060-43c5-d424-1180a2266382"
      },
      "execution_count": 14,
      "outputs": [
        {
          "output_type": "stream",
          "name": "stdout",
          "text": [
            "Operator([[3.15+0.j, 0.  +0.j, 0.  +0.j, ..., 0.  +0.j, 0.  +0.j,\n",
            "           0.  +0.j],\n",
            "          [0.  +0.j, 4.15+0.j, 0.  +0.j, ..., 0.  +0.j, 0.  +0.j,\n",
            "           0.  +0.j],\n",
            "          [0.  +0.j, 0.  +0.j, 4.15+0.j, ..., 0.  +0.j, 0.  +0.j,\n",
            "           0.  +0.j],\n",
            "          ...,\n",
            "          [0.  +0.j, 0.  +0.j, 0.  +0.j, ..., 8.15+0.j, 0.  +0.j,\n",
            "           0.  +0.j],\n",
            "          [0.  +0.j, 0.  +0.j, 0.  +0.j, ..., 0.  +0.j, 8.15+0.j,\n",
            "           0.  +0.j],\n",
            "          [0.  +0.j, 0.  +0.j, 0.  +0.j, ..., 0.  +0.j, 0.  +0.j,\n",
            "           9.15+0.j]],\n",
            "         input_dims=(2, 2, 2, 2, 2, 2), output_dims=(2, 2, 2, 2, 2, 2))\n"
          ]
        }
      ]
    },
    {
      "cell_type": "code",
      "source": [
        "print(\"Total number of qubits: \",qubit_operator.num_qubits)\n",
        "print(\"Type of qubitOp: \",type(qubit_operator).__name__)"
      ],
      "metadata": {
        "colab": {
          "base_uri": "https://localhost:8080/"
        },
        "id": "wbY-VWLu9fTy",
        "outputId": "e5188d55-b9f1-435c-f532-bff4bdc5c0e1"
      },
      "execution_count": 15,
      "outputs": [
        {
          "output_type": "stream",
          "name": "stdout",
          "text": [
            "Total number of qubits:  6\n",
            "Type of qubitOp:  MatrixOp\n"
          ]
        }
      ]
    },
    {
      "cell_type": "code",
      "source": [
        "ansatz = EfficientSU2(qubit_operator.num_qubits, su2_gates=['ry'], entanglement=\"full\", reps=1)\n",
        "ansatz.draw(output='mpl')"
      ],
      "metadata": {
        "colab": {
          "base_uri": "https://localhost:8080/",
          "height": 322
        },
        "id": "I5W6AaCy92h8",
        "outputId": "9cc2fdb3-f05b-4872-86e0-b29bf67b9e1f"
      },
      "execution_count": 19,
      "outputs": [
        {
          "output_type": "execute_result",
          "data": {
            "image/png": "[encoded data removed]",
            "text/plain": [
              "<Figure size 507.997x385.28 with 1 Axes>"
            ]
          },
          "metadata": {},
          "execution_count": 19
        }
      ]
    },
    {
      "cell_type": "code",
      "source": [
        "np.log2(hamiltonian.shape[0])"
      ],
      "metadata": {
        "colab": {
          "base_uri": "https://localhost:8080/"
        },
        "id": "nOoD937NGAIs",
        "outputId": "aaea28d0-dd3c-4473-8353-d36776039c20"
      },
      "execution_count": 20,
      "outputs": [
        {
          "output_type": "execute_result",
          "data": {
            "text/plain": [
              "6.0"
            ]
          },
          "metadata": {},
          "execution_count": 20
        }
      ]
    },
    {
      "cell_type": "markdown",
      "source": [
        "# Looping the VQE algorithm over several optimizers"
      ],
      "metadata": {
        "id": "Hp6FAgMHGOx-"
      }
    },
    {
      "cell_type": "markdown",
      "source": [
        "## Statevector simulator"
      ],
      "metadata": {
        "id": "dh29MQe6GXbo"
      }
    },
    {
      "cell_type": "code",
      "source": [
        "warnings.filterwarnings(\"ignore\")\n",
        "seed = 0\n",
        "algorithm_globals.random_seed = seed\n",
        "if HAS_GPU:\n",
        "  backend = Aer.get_backend(\"statevector_simulator\", method=\"statevector_gpu\")\n",
        "else:\n",
        "  backend = Aer.get_backend(\"statevector_simulator\", max_parallel_threads=6, max_parallel_experiments=0)\n",
        "quantum_instance = QuantumInstance(backend, seed_transpiler = seed, seed_simulator = seed)"
      ],
      "metadata": {
        "id": "ZN4IYsxuGQWj"
      },
      "execution_count": 21,
      "outputs": []
    },
    {
      "cell_type": "code",
      "source": [
        "counts = []\n",
        "values = []\n",
        "\n",
        "def store_intermediate_result(eval_count, parameters, mean, std):\n",
        "    counts.append(eval_count)\n",
        "    values.append(mean)\n",
        "\n",
        "optimizer = SLSQP(maxiter=1000)\n",
        "\n",
        "vqe = VQE(ansatz=ansatz, optimizer=optimizer, quantum_instance=quantum_instance, callback=store_intermediate_result)\n",
        "result = vqe.compute_minimum_eigenvalue(qubit_operator)\n",
        "vqe_result = np.real(result.eigenvalue)\n",
        "print(f\"VQE gs energy: {vqe_result}\")"
      ],
      "metadata": {
        "colab": {
          "base_uri": "https://localhost:8080/"
        },
        "id": "dBGl8gCoIBwN",
        "outputId": "5ad9c30b-3076-4819-ec25-f1e0f16868c0"
      },
      "execution_count": 22,
      "outputs": [
        {
          "output_type": "stream",
          "name": "stdout",
          "text": [
            "VQE gs energy: 3.150000100711781\n"
          ]
        }
      ]
    },
    {
      "cell_type": "code",
      "source": [
        "# Plot all of the optimizers in a single convergence plot. If you see that the optimizer isn't converging,\n",
        "# increase the maximum iterations or maximum function evaluations in the optimizer list above.\n",
        "\n",
        "labelList = [\"SLSQP\"]\n",
        "\n",
        "plt.plot(counts, values)\n",
        "plt.axhline(y=np.real(energies[0]),xmin=0,xmax=counts[-1],color='k',linestyle='--',label=\"Exact Energy\")\n",
        "plt.xlabel('Eval count')\n",
        "plt.ylabel('Energy')\n",
        "plt.title('Energy convergence')\n",
        "plt.legend(loc='upper right', labels=labelList)"
      ],
      "metadata": {
        "colab": {
          "base_uri": "https://localhost:8080/",
          "height": 313
        },
        "id": "iWlItDRpIKqO",
        "outputId": "6fb4e5ce-93b6-4705-9af8-b2e0c42822b9"
      },
      "execution_count": 23,
      "outputs": [
        {
          "output_type": "execute_result",
          "data": {
            "text/plain": [
              "<matplotlib.legend.Legend at 0x7fc46fa60c90>"
            ]
          },
          "metadata": {},
          "execution_count": 23
        },
        {
          "output_type": "display_data",
          "data": {
            "image/png": "[encoded data removed]",
            "text/plain": [
              "<Figure size 432x288 with 1 Axes>"
            ]
          },
          "metadata": {
            "needs_background": "light"
          }
        }
      ]
    },
    {
      "cell_type": "markdown",
      "source": [
        "## QASM Simulator"
      ],
      "metadata": {
        "id": "HcCI3DcdISn0"
      }
    },
    {
      "cell_type": "code",
      "source": [
        "warnings.filterwarnings(\"ignore\")\n",
        "\n",
        "backendQasm = Aer.get_backend('qasm_simulator')\n",
        "quantum_instance = QuantumInstance(backend=backendQasm, shots=1024)\n",
        "optimizer = SPSA(maxiter=10000)\n",
        "\n",
        "counts = []\n",
        "values = []\n",
        "\n",
        "def store_intermediate_result(eval_count, parameters, mean, std):\n",
        "    counts.append(eval_count)\n",
        "    values.append(mean)\n",
        "\n",
        "vqe = VQE(ansatz=ansatz, optimizer=optimizer, quantum_instance=quantum_instance, callback=store_intermediate_result)\n",
        "\n",
        "result = vqe.compute_minimum_eigenvalue(qubit_operator)\n",
        "vqe_result = np.real(result.eigenvalue)\n",
        "print(f\"VQE gs energy (QASM): {vqe_result}\")"
      ],
      "metadata": {
        "colab": {
          "base_uri": "https://localhost:8080/"
        },
        "id": "825dXVK5IVQl",
        "outputId": "e269a4e4-1a99-4b1a-f6fe-208d5d79a032"
      },
      "execution_count": 24,
      "outputs": [
        {
          "output_type": "stream",
          "name": "stdout",
          "text": [
            "VQE gs energy (QASM): 3.15\n"
          ]
        }
      ]
    },
    {
      "cell_type": "code",
      "source": [
        "# Plot convergence plot for the SPSA optimizer\n",
        "plt.plot(counts, values, label=\"SPSA\")\n",
        "plt.plot(counts,[np.real(energies[0])]*len(counts), 'k--',label=\"Exact Energy\")\n",
        "plt.xlabel('Eval count')\n",
        "plt.ylabel('Energy')\n",
        "plt.title('Energy convergence of SPSA optimizer (QASM)')\n",
        "plt.legend(loc='upper right')"
      ],
      "metadata": {
        "colab": {
          "base_uri": "https://localhost:8080/",
          "height": 313
        },
        "id": "f7lS_ZFxIZ6N",
        "outputId": "257b6b8d-8b68-496d-faad-6c818276476f"
      },
      "execution_count": 25,
      "outputs": [
        {
          "output_type": "execute_result",
          "data": {
            "text/plain": [
              "<matplotlib.legend.Legend at 0x7fc46b1c0350>"
            ]
          },
          "metadata": {},
          "execution_count": 25
        },
        {
          "output_type": "display_data",
          "data": {
            "image/png": "[encoded data removed]",
            "text/plain": [
              "<Figure size 432x288 with 1 Axes>"
            ]
          },
          "metadata": {
            "needs_background": "light"
          }
        }
      ]
    },
    {
      "cell_type": "code",
      "source": [
        "import qiskit.tools.jupyter\n",
        "%qiskit_version_table"
      ],
      "metadata": {
        "colab": {
          "base_uri": "https://localhost:8080/",
          "height": 350
        },
        "id": "aeS6fgZygQ3E",
        "outputId": "658631aa-4406-4521-ff14-54cc55164738"
      },
      "execution_count": 26,
      "outputs": [
        {
          "output_type": "display_data",
          "data": {
            "text/html": [
              "<h3>Version Information</h3><table><tr><th>Qiskit Software</th><th>Version</th></tr><tr><td><code>qiskit-terra</code></td><td>0.19.2</td></tr><tr><td><code>qiskit-aer</code></td><td>0.10.3</td></tr><tr><td><code>qiskit-ignis</code></td><td>0.7.0</td></tr><tr><td><code>qiskit-ibmq-provider</code></td><td>0.18.3</td></tr><tr><td><code>qiskit</code></td><td>0.34.2</td></tr><tr><th>System information</th></tr><tr><td>Python version</td><td>3.7.12</td></tr><tr><td>Python compiler</td><td>GCC 7.5.0</td></tr><tr><td>Python build</td><td>default, Jan 15 2022 18:48:18</td></tr><tr><td>OS</td><td>Linux</td></tr><tr><td>CPUs</td><td>1</td></tr><tr><td>Memory (Gb)</td><td>12.686653137207031</td></tr><tr><td colspan='2'>Fri Feb 25 20:28:37 2022 UTC</td></tr></table>"
            ],
            "text/plain": [
              "<IPython.core.display.HTML object>"
            ]
          },
          "metadata": {}
        }
      ]
    }
  ]
}